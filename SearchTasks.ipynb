{
  "nbformat": 4,
  "nbformat_minor": 0,
  "metadata": {
    "colab": {
      "provenance": [],
      "include_colab_link": true
    },
    "kernelspec": {
      "name": "python3",
      "display_name": "Python 3"
    },
    "language_info": {
      "name": "python"
    }
  },
  "cells": [
    {
      "cell_type": "markdown",
      "metadata": {
        "id": "view-in-github",
        "colab_type": "text"
      },
      "source": [
        "<a href=\"https://colab.research.google.com/github/satesilka/AI-Fundamentals/blob/main/SearchTasks.ipynb\" target=\"_parent\"><img src=\"https://colab.research.google.com/assets/colab-badge.svg\" alt=\"Open In Colab\"/></a>"
      ]
    },
    {
      "cell_type": "markdown",
      "source": [
        "# **Search Algorithms in AI**\n",
        "\n",
        "## **Task 1. Word Search Puzzle Solver**\n",
        "\n",
        "You are tasked with implementing a Word Search Puzzle Solver in Python. The goal is to find a list of words within a 2D grid of letters. Words can be arranged horizontally, vertically, or diagonally, in either forward or reverse order. You need to create two functions to accomplish this task:\n",
        "\n",
        "1. **`search_word(grid, word)`**\n",
        "- This function is responsible for searching for a specific word within a 2D grid of letters.\n",
        "- It checks all possible directions (horizontal, vertical, and diagonal) starting from each cell in the grid.\n",
        "- If the word is found in any direction, it returns `True`; otherwise, it returns `False`.\n",
        "- This function is called for each word to be searched in the grid.\n",
        "\n",
        "*Parameters:*\n",
        "- `grid` (list of list of str): A 2D grid of letters.\n",
        "- `word` (str): The word to search for.\n",
        "\n",
        "*Returns:*\n",
        "- `bool`: `True` if the word is found in the grid, `False` otherwise.\n",
        "\n",
        "2. **`find_words(grid, words)`**\n",
        "\n",
        "- This function is responsible for finding a list of words within a 2D grid of letters by calling the `search_word` function.\n",
        "- It iterates through the list of words and checks each word in the grid.\n",
        "- If a word is found, it is added to the list of found words.\n",
        "- The function returns a list of words that are found within the grid.\n",
        "\n",
        "*Parameters:*\n",
        "- `grid` (list of list of str): A 2D grid of letters.\n",
        "- `words` (list of str): A list of words to find in the grid.\n",
        "\n",
        "*Returns:*\n",
        "- `list of str`: A list of words found in the grid.\n",
        "\n",
        "This **Word Search Puzzle Solver** is designed to locate words within a grid of letters and provide a list of found words as the output."
      ],
      "metadata": {
        "id": "d9VWqdHnLUna"
      }
    },
    {
      "cell_type": "code",
      "execution_count": 1,
      "metadata": {
        "id": "1Mx3DgiidnfY",
        "colab": {
          "base_uri": "https://localhost:8080/"
        },
        "outputId": "5d348e7d-3452-4860-cb85-959d0f60d8a0"
      },
      "outputs": [
        {
          "output_type": "stream",
          "name": "stdout",
          "text": [
            "Collecting git+https://github.com/mehalyna/cooltest.git\n",
            "  Cloning https://github.com/mehalyna/cooltest.git to /tmp/pip-req-build-rtr3rs3y\n",
            "  Running command git clone --filter=blob:none --quiet https://github.com/mehalyna/cooltest.git /tmp/pip-req-build-rtr3rs3y\n",
            "  Resolved https://github.com/mehalyna/cooltest.git to commit 630c96f2d3300782279879d5d13e6c1aaabf3c75\n",
            "  Preparing metadata (setup.py) ... \u001b[?25l\u001b[?25hdone\n",
            "Requirement already satisfied: numpy>=1.15 in /usr/local/lib/python3.10/dist-packages (from cooltest==26.22) (1.26.4)\n",
            "Building wheels for collected packages: cooltest\n",
            "  Building wheel for cooltest (setup.py) ... \u001b[?25l\u001b[?25hdone\n",
            "  Created wheel for cooltest: filename=cooltest-26.22-py3-none-any.whl size=5447 sha256=fa0bc2a6b8a66d57be840b808cf5b1c819313ce93b0b11807dbc79d9c19d53ac\n",
            "  Stored in directory: /tmp/pip-ephem-wheel-cache-8dohavuf/wheels/5f/d0/08/46fba8323b078d91da2d05922a680d9728e94d53b453a8dd79\n",
            "Successfully built cooltest\n",
            "Installing collected packages: cooltest\n",
            "Successfully installed cooltest-26.22\n"
          ]
        }
      ],
      "source": [
        "!pip install git+https://github.com/mehalyna/cooltest.git"
      ]
    },
    {
      "cell_type": "code",
      "execution_count": 2,
      "metadata": {
        "id": "d5CQbiR4do4l",
        "colab": {
          "base_uri": "https://localhost:8080/"
        },
        "outputId": "57042e11-dc28-4599-e302-64b0c065f344"
      },
      "outputs": [
        {
          "output_type": "stream",
          "name": "stdout",
          "text": [
            "Pass\n"
          ]
        }
      ],
      "source": [
        "from cooltest.test_cool_search import *"
      ]
    },
    {
      "cell_type": "code",
      "execution_count": 10,
      "metadata": {
        "id": "bblie2A_IYas",
        "colab": {
          "base_uri": "https://localhost:8080/"
        },
        "outputId": "6dcaffc5-a986-49e0-e4a7-f3e1fdd83bb7"
      },
      "outputs": [
        {
          "output_type": "stream",
          "name": "stdout",
          "text": [
            "Test Display Word pass\n",
            "Test Find Words pass\n",
            "Found words: ['DOG', 'GOD']\n"
          ]
        }
      ],
      "source": [
        "from collections import deque\n",
        "@test_search_word\n",
        "def search_word(grid, word):\n",
        "    \"\"\"\n",
        "    Search for a word within a grid of letters.\n",
        "\n",
        "    This function searches for the given word in the grid by checking all possible\n",
        "    directions (horizontal, vertical, and diagonal) starting from each cell.\n",
        "\n",
        "    Args:\n",
        "    grid (list of list of str): A 2D grid of letters.\n",
        "    word (str): The word to search for.\n",
        "\n",
        "    Returns:\n",
        "    bool: True if the word is found in the grid, False otherwise.\n",
        "    \"\"\"\n",
        "    # Define possible directions (horizontal, vertical, diagonal)\n",
        "    directions = [(-1, 0), (1, 0), (0, -1), (0, 1), (-1, -1), (-1, 1), (1, -1), (1, 1)]\n",
        "    rows, cols = len(grid), len(grid[0])\n",
        "    result = []\n",
        "\n",
        "    def dfs(x, y, index):\n",
        "      if index == len(word):\n",
        "        return True\n",
        "      if x < 0 or x >= rows or y < 0 or y >= cols or grid[x][y] != word[index]:\n",
        "        return False\n",
        "      for dx, dy in directions:\n",
        "        if dfs(x + dx, y + dy, index + 1):\n",
        "          return True\n",
        "      return False\n",
        "\n",
        "    for i in range(rows):\n",
        "      for j in range(cols):\n",
        "        if grid[i][j] == word[0] and dfs(i, j, 0):\n",
        "          return True\n",
        "    return False\n",
        "\n",
        "@test_find_words\n",
        "def find_words(grid, words):\n",
        "    \"\"\"\n",
        "    Find words within a grid of letters.\n",
        "\n",
        "    This function searches for words in the given grid by calling the search_word function\n",
        "    for each word to be found.\n",
        "\n",
        "    Args:\n",
        "    grid (list of list of str): A 2D grid of letters.\n",
        "    words (list of str): A list of words to find in the grid.\n",
        "\n",
        "    Returns:\n",
        "    list of str: A list of words found in the grid.\n",
        "    \"\"\"\n",
        "    result = []\n",
        "    for word in words:\n",
        "      if search_word(grid, word):\n",
        "        result.append(word)\n",
        "\n",
        "    return result\n",
        "\n",
        "# Example usage:\n",
        "grid = [['A', 'B', 'C', 'D'], ['E', 'F', 'G', 'O'], ['I', 'J', 'K', 'G'], ['M', 'N', 'H', 'P']]\n",
        "word_list = [\"HELLO\", \"WORLD\", \"HI\", \"FOOD\", \"DOG\", \"GOD\"]\n",
        "found_words = find_words(grid, word_list)\n",
        "print(\"Found words:\", found_words)\n"
      ]
    },
    {
      "cell_type": "markdown",
      "source": [
        "## **Task 2. Pathfinding Basics**\n",
        "\n",
        "You are tasked with implementing a basic pathfinding algorithm in Python. The goal is to find the shortest path from a starting point to a target point on a grid. The grid represents a simple maze, where some cells are blocked and cannot be traversed. You need to implement a function that finds the shortest path using a *breadth-first search* (BFS) algorithm.\n",
        "\n",
        "**Requirements:**\n",
        "\n",
        "1. Implement a function called **`find_shortest_path`** that takes a 2D grid, a start point, and a target point as input and returns the shortest path as a list of coordinates.\n",
        "\n",
        " The grid is represented as a 2D list of characters, where:\n",
        "   - `'S'` represents the starting point.\n",
        "   - `'E'` represents the target point.\n",
        "   - `'X'` represents blocked cells.\n",
        "   - `' '` (space) represents open cells that can be traversed.\n",
        "\n",
        " The function should perform a breadth-first search (BFS) to find the shortest path from the starting point to the target point.\n",
        "\n",
        " If there is no valid path to the target point, the function should return an empty list.\n",
        "\n",
        " If there are multiple valid shortest paths, the function should return any of them.\n",
        "\n",
        "2. **`is_valid(cell, grid)`** This function checks whether a given cell is a valid open cell within the grid. It is used to determine if a cell can be traversed or if it is blocked.\n",
        "\n",
        "- *Parameters:*\n",
        "  - `cell` (tuple): The cell coordinates in the form of `(row, col)` to be checked.\n",
        "  - `grid` (list of list of str): A 2D grid of characters representing the maze.\n",
        "\n",
        "- *Returns:*\n",
        "  - `bool`: `True` if the cell is a valid open cell that can be traversed, `False` otherwise.\n",
        "\n",
        "3. **`get_neighbors(cell, grid)`** This function retrieves neighboring cells that are valid open cells within the grid. It is used to find adjacent cells that can be explored in a pathfinding algorithm.\n",
        "\n",
        "- *Parameters:*\n",
        "  - `cell` (tuple): The cell coordinates in the form of `(row, col)` for which neighboring cells are sought.\n",
        "  - `grid` (list of list of str): A 2D grid of characters representing the maze.\n",
        "\n",
        "- *Returns:*\n",
        "  - `list of tuple`: A list of neighboring cell coordinates in the form of tuples `(row, col)`.\n",
        "\n",
        "These functions are designed to assist in pathfinding by determining the validity of cells within the maze grid and finding neighboring cells that can be considered for traversal.\n",
        "\n"
      ],
      "metadata": {
        "id": "w2tidW5lm8xS"
      }
    },
    {
      "cell_type": "code",
      "source": [
        "from collections import deque\n",
        "\n",
        "@test_is_valid\n",
        "def is_valid(cell, grid):\n",
        "    \"\"\"\n",
        "    Check if a cell is a valid open cell in the grid.\n",
        "\n",
        "    Args:\n",
        "    cell (tuple): The cell coordinates (row, col).\n",
        "    grid (list of list of str): A 2D grid of characters.\n",
        "\n",
        "    Returns:\n",
        "    bool: True if the cell is a valid open cell, False otherwise.\n",
        "    \"\"\"\n",
        "    return 0 <= cell[0] < len(grid) and 0 <= cell[1] < len(grid[0])\n",
        "\n",
        "@test_get_neighbors\n",
        "def get_neighbors(cell, grid):\n",
        "    \"\"\"\n",
        "    Get neighboring cells that are valid open cells in the grid.\n",
        "\n",
        "    Args:\n",
        "    cell (tuple): The cell coordinates (row, col).\n",
        "    grid (list of list of str): A 2D grid of characters.\n",
        "\n",
        "    Returns:\n",
        "    list of tuple: List of neighboring cell coordinates [(row1, col1), (row2, col2), ...].\n",
        "    \"\"\"\n",
        "\n",
        "    result = []\n",
        "    x, y = cell\n",
        "    rows, cols = len(grid), len(grid[0])\n",
        "\n",
        "    if x > 0: result.append((x-1, y))\n",
        "    if x < rows - 1: result.append((x+1, y))\n",
        "    if y > 0: result.append((x, y-1))\n",
        "    if y < cols - 1: result.append((x, y+1))\n",
        "\n",
        "    return result\n",
        "\n",
        "\n",
        "@test_find_shortest_path\n",
        "def find_shortest_path(grid, start, target):\n",
        "    \"\"\"\n",
        "    Find the shortest path from the starting point to the target point on a grid.\n",
        "\n",
        "    This function uses a breadth-first search (BFS) algorithm to find the shortest path\n",
        "    from the starting point to the target point on the grid. The grid is represented as\n",
        "    a 2D list of characters, where 'S' is the starting point, 'E' is the target point,\n",
        "    'X' are blocked cells, and ' ' (space) are open cells.\n",
        "\n",
        "    Args:\n",
        "    grid (list of list of str): A 2D grid of characters.\n",
        "    start (tuple): The starting point coordinates (row, col).\n",
        "    target (tuple): The target point coordinates (row, col).\n",
        "\n",
        "    Returns:\n",
        "    list of tuple: The shortest path as a list of coordinate tuples [(row1, col1), (row2, col2), ...].\n",
        "                   An empty list is returned if there is no valid path.\n",
        "    \"\"\"\n",
        "    queue = deque([start])\n",
        "    visited = set([start])\n",
        "    parent= {start: None}\n",
        "\n",
        "    while queue:\n",
        "      curr_cell = queue.popleft()\n",
        "\n",
        "      if curr_cell == target:\n",
        "        path = []\n",
        "        while curr_cell:\n",
        "          path.append(curr_cell)\n",
        "          curr_cell = parent[curr_cell]\n",
        "        return path[::-1]\n",
        "\n",
        "      for neighbor in get_neighbors(curr_cell, grid):\n",
        "        if neighbor not in visited and grid[neighbor[0]][neighbor[1]] != 'X':\n",
        "          queue.append(neighbor)\n",
        "          visited.add(neighbor)\n",
        "          parent[neighbor] = curr_cell\n",
        "\n",
        "    return []\n",
        "\n",
        "# Example usage:\n",
        "grid = [\n",
        "    ['S', ' ', ' ', ' ', ' '],\n",
        "    ['X', 'X', ' ', ' ', 'E'],\n",
        "    [' ', ' ', 'X', ' ', ' '],\n",
        "    ['X', 'X', ' ', 'X', ' '],\n",
        "    [' ', ' ', ' ', ' ', ' ']\n",
        "]\n",
        "\n",
        "start_point = (0, 0)\n",
        "end_point = (1, 4)\n",
        "\n",
        "shortest_path = find_shortest_path(grid, start_point, end_point)\n",
        "print(\"Shortest Path:\", shortest_path)\n"
      ],
      "metadata": {
        "id": "GV-5uLncoLoE",
        "colab": {
          "base_uri": "https://localhost:8080/"
        },
        "outputId": "3ffd6e57-dc4a-4da9-b676-4cf04bdc5811"
      },
      "execution_count": 12,
      "outputs": [
        {
          "output_type": "stream",
          "name": "stdout",
          "text": [
            "Test Is Valid Pass\n",
            "Test Get Neighbors Pass\n",
            "Test Find Path Pass\n",
            "Shortest Path: [(0, 0), (0, 1), (0, 2), (1, 2), (1, 3), (1, 4)]\n"
          ]
        }
      ]
    },
    {
      "cell_type": "markdown",
      "source": [
        "## **Task 3. Maze Solving with Depth-First Search**\n",
        "\n",
        "You are tasked with developing a program that can solve a simple maze using the **Depth-First Search (DFS)** algorithm. The goal is to find a path from the starting point to the exit of the maze. The maze is represented as a grid, where some cells are walls (blocked), and others are open paths. The program should navigate through the maze, find a path from the starting point to the exit, and provide the solution.\n",
        "\n",
        "**Requirements:**\n",
        "\n",
        "1. Implement a function called `solve_maze(maze)` that takes a maze as input and returns the solution path as a list of coordinates.\n",
        "\n",
        " The maze is represented as a 2D grid, where:\n",
        "   - `'S'` represents the starting point.\n",
        "   - `'E'` represents the exit point.\n",
        "   - `'X'` represents blocked cells (walls).\n",
        "   - `' '` (space) represents open paths.\n",
        "\n",
        "- *Parameters:*\n",
        "  - `maze` (list of list of str): A 2D grid representing the maze.\n",
        "\n",
        "- *Returns:*\n",
        "  - `list of tuple`: The solution path as a list of coordinate tuples `[(row1, col1), (row2, col2), ...]`.\n",
        "An empty list is returned if there is no valid path.\n",
        "\n",
        "\n",
        "2. **`dfs(row, col)`** This function performs the Depth-First Search (DFS) algorithm to explore the maze and find a path from the current cell to the exit point 'E'.\n",
        "\n",
        "- *Parameters:*\n",
        "  - `maze` (list): list of lists which represents the maze.\n",
        "  - `row` (int): The current row coordinate within the maze.\n",
        "  - `col` (int): The current column coordinate within the maze.\n",
        "  - `visited` (list of list of bool): A 2D grid representing visited cells in the maze. It keeps track of which cells have been visited to prevent revisiting them.\n",
        "  - `solution_path` (list of tuple): A list used to store coordinate tuples representing the solution path as it's discovered.\n",
        "\n",
        "- *Returns:*\n",
        "  - `bool`: `True` if a valid path is found from the current cell to 'E', `False` otherwise.\n",
        "\n",
        "\n"
      ],
      "metadata": {
        "id": "SXStrnO-FloC"
      }
    },
    {
      "cell_type": "code",
      "source": [
        "\n",
        "def dfs(maze, row, col, visited, solution_path):\n",
        "    \"\"\"\n",
        "    Depth-First Search (DFS) algorithm to explore the maze and find a path from\n",
        "    the current cell to the exit point 'E'.\n",
        "\n",
        "    Args:\n",
        "    maze (list): list of lists which represents the maze.\n",
        "    row (int): The current row coordinate.\n",
        "    col (int): The current column coordinate.\n",
        "    visited (list of list of bool): A 2D grid representing visited cells in the maze.\n",
        "    solution_path (list of tuple): A list of coordinate tuples representing the solution path.\n",
        "\n",
        "    Returns:\n",
        "    bool: True if a valid path is found from the current cell to 'E', False otherwise.\n",
        "    \"\"\"\n",
        "    if maze[row][col] == 'E':\n",
        "      solution_path.append((row, col))\n",
        "      return True\n",
        "\n",
        "    visited[row][col] = True\n",
        "    solution_path.append((row, col))\n",
        "\n",
        "    neighbors = []\n",
        "    rows, cols = len(maze), len(maze[0])\n",
        "\n",
        "    if row > 0:  neighbors.append((row-1, col))\n",
        "    if row < rows - 1:  neighbors.append((row+1, col))\n",
        "    if col > 0:  neighbors.append((row, col-1))\n",
        "    if row < cols - 1:  neighbors.append((row, col+1))\n",
        "\n",
        "    for  neighbor in neighbors:\n",
        "      n_row, n_col = neighbor\n",
        "      if not visited[n_row][n_col] and maze[n_row][n_col] != 'X':\n",
        "        if dfs(maze, n_row, n_col, visited, solution_path):\n",
        "          return True\n",
        "\n",
        "    solution_path.pop()\n",
        "    return  False\n",
        "\n",
        "@test_solve_maze\n",
        "def solve_maze(maze):\n",
        "    \"\"\"\n",
        "    Solve a maze using Depth-First Search (DFS) algorithm.\n",
        "\n",
        "    Args:\n",
        "    maze (list of list of str): A 2D grid representing the maze.\n",
        "\n",
        "    Returns:\n",
        "    list of tuple: The solution path as a list of coordinate tuples [(row1, col1), (row2, col2), ...].\n",
        "                   An empty list is returned if there is no valid path.\n",
        "    \"\"\"\n",
        "\n",
        "\n",
        "    # Find the starting point\n",
        "    start = next((i, j) for i, row in enumerate(maze) for j, cell in enumerate(row) if cell == 'S')\n",
        "\n",
        "    # Initialize the visited array and solution_path list\n",
        "    visited = []\n",
        "    for _ in range(len(maze)):\n",
        "      visited.append([False] * len(maze[0]))\n",
        "\n",
        "    solution_path = []\n",
        "\n",
        "\n",
        "    if dfs(maze, start[0], start[1], visited, solution_path):\n",
        "      return solution_path\n",
        "    else:\n",
        "      return []\n",
        "\n",
        "\n",
        "# Example usage:\n",
        "maze = [\n",
        "    ['S', ' ', 'X', 'X', 'E'],\n",
        "    ['X', ' ', ' ', 'X', ' '],\n",
        "    ['X', 'X', ' ', ' ', ' '],\n",
        "    [' ', 'X', 'X', 'X', ' '],\n",
        "    [' ', ' ', ' ', ' ', ' ']\n",
        "]\n",
        "\n",
        "path = solve_maze(maze)\n",
        "print(\"Solution Path:\", path)\n"
      ],
      "metadata": {
        "id": "0Lb0ArEIoSLM",
        "colab": {
          "base_uri": "https://localhost:8080/"
        },
        "outputId": "fce8392b-3a52-4f4f-9f0e-294829eac07c"
      },
      "execution_count": 13,
      "outputs": [
        {
          "output_type": "stream",
          "name": "stdout",
          "text": [
            "Test Solve Maze Pass\n",
            "Solution Path: [(0, 0), (0, 1), (1, 1), (1, 2), (2, 2), (2, 3), (2, 4), (1, 4), (0, 4)]\n"
          ]
        }
      ]
    }
  ]
}