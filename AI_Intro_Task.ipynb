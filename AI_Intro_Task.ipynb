{
  "cells": [
    {
      "cell_type": "markdown",
      "metadata": {
        "id": "Fntz0L_hu8WC"
      },
      "source": [
        "# Introduction to Artificial Intelligence. Practical Tasks\n",
        "\n",
        "## Task.1 Rock-Paper-Scissors\n",
        "\n",
        "The Rock-Paper-Scissors game is a simple hand game played between two players. It is often used as a decision-making tool or a playful way to make choices between two individuals. The game involves three hand shapes, each representing one of the three options: \"rock,\" \"paper,\" or \"scissors.\" The rules are straightforward:\n",
        "\n",
        "1. Rock crushes Scissors: Rock wins against Scissors.\n",
        "2. Paper covers Rock: Paper wins against Rock.\n",
        "3. Scissors cut Paper: Scissors win against Paper.\n",
        "\n",
        "The game follows a cyclic pattern, where each option beats one and loses to another. If both players choose the same option, the game results in a tie or draw.\n",
        "\n",
        "The Rock-Paper-Scissors game is typically played in a series of rounds. Each player makes their choice by forming one of the hand shapes (rock, paper, or scissors) simultaneously. Then, the choices are revealed, and the winner of the round is determined based on the rules above. The game continues until a predetermined number of rounds are completed, and the player with the most wins is declared the overall winner.\n"
      ]
    },
    {
      "cell_type": "code",
      "execution_count": null,
      "metadata": {
        "colab": {
          "base_uri": "https://localhost:8080/"
        },
        "id": "1Mx3DgiidnfY",
        "outputId": "44b3c65e-d273-4f40-924b-687bf0f5bc36"
      },
      "outputs": [
        {
          "output_type": "stream",
          "name": "stdout",
          "text": [
            "Collecting git+https://github.com/mehalyna/cooltest.git\n",
            "  Cloning https://github.com/mehalyna/cooltest.git to /tmp/pip-req-build-06t9tcvv\n",
            "  Running command git clone --filter=blob:none --quiet https://github.com/mehalyna/cooltest.git /tmp/pip-req-build-06t9tcvv\n",
            "  Resolved https://github.com/mehalyna/cooltest.git to commit 630c96f2d3300782279879d5d13e6c1aaabf3c75\n",
            "  Preparing metadata (setup.py) ... \u001b[?25l\u001b[?25hdone\n",
            "Requirement already satisfied: numpy>=1.15 in /usr/local/lib/python3.10/dist-packages (from cooltest==26.22) (1.26.4)\n",
            "Building wheels for collected packages: cooltest\n",
            "  Building wheel for cooltest (setup.py) ... \u001b[?25l\u001b[?25hdone\n",
            "  Created wheel for cooltest: filename=cooltest-26.22-py3-none-any.whl size=5447 sha256=37190772ac49a9b108bf4a35e213d4256567f4fa7a6d662c00554c9e996d4395\n",
            "  Stored in directory: /tmp/pip-ephem-wheel-cache-x96ngafm/wheels/5f/d0/08/46fba8323b078d91da2d05922a680d9728e94d53b453a8dd79\n",
            "Successfully built cooltest\n",
            "Installing collected packages: cooltest\n",
            "Successfully installed cooltest-26.22\n"
          ]
        }
      ],
      "source": [
        "!pip install git+https://github.com/mehalyna/cooltest.git"
      ]
    },
    {
      "cell_type": "code",
      "execution_count": null,
      "metadata": {
        "id": "d5CQbiR4do4l",
        "colab": {
          "base_uri": "https://localhost:8080/"
        },
        "outputId": "853c216b-a42d-4035-f630-76d03685e418"
      },
      "outputs": [
        {
          "output_type": "stream",
          "name": "stdout",
          "text": [
            "Pass\n"
          ]
        }
      ],
      "source": [
        "from cooltest.test_cool_2 import *"
      ]
    },
    {
      "cell_type": "markdown",
      "metadata": {
        "id": "aZPJ8rt--GOg"
      },
      "source": [
        "Your task is to write the body of function `play_rock_paper_scissors()` in such a way that it would be used to play the game with the computer.\n",
        "\n",
        "In this version of the function, the player's choice (from the user) and computer's choice (randomly generated) will be taken as input parameter. The winner is determined based on the **Rock-Paper-Scissors** game rules, and the result of the round is displayed. The user can play the game against the computer by providing their choice as input."
      ]
    },
    {
      "cell_type": "code",
      "execution_count": null,
      "metadata": {
        "id": "lqhoAA6bu4jm",
        "colab": {
          "base_uri": "https://localhost:8080/"
        },
        "outputId": "bf021670-8875-4c73-c071-1a91097d5d23"
      },
      "outputs": [
        {
          "output_type": "stream",
          "name": "stdout",
          "text": [
            "Test game Pass\n"
          ]
        }
      ],
      "source": [
        "@test_play_rock_paper_scissors\n",
        "def play_rock_paper_scissors(player_choice, comp_choice):\n",
        "    \"\"\"\n",
        "    Play a round of the Rock-Paper-Scissors game.\n",
        "\n",
        "    Parameters:\n",
        "        player1_choice (str): The choice of Player 1. Should be one of 'rock', 'paper', or 'scissors'.\n",
        "        comp_choice (str): The choice of Computer. Should be one of 'rock', 'paper', or 'scissors'.\n",
        "\n",
        "    Returns:\n",
        "        str: The result of the round. It can be one of the following:\n",
        "             - \"Tie\" if both players have the same choice.\n",
        "             - \"Player 1 wins\" if Player 1's choice wins the round.\n",
        "             - \"Comp wins\" if Computer's choice wins the round.\n",
        "\n",
        "    Example:\n",
        "        >>> play_rock_paper_scissors('rock', 'paper')\n",
        "        'Comp wins'\n",
        "        >>> play_rock_paper_scissors('scissors', 'scissors')\n",
        "        'Tie'\n",
        "    \"\"\"\n",
        "    valid_choices = {'rock', 'paper', 'scissors'}\n",
        "\n",
        "    #Check if input is valid\n",
        "    if player_choice not in valid_choices or comp_choice not in valid_choices:\n",
        "        return \"Invalid choice\"\n",
        "\n",
        "    # Check if it's a tie and determine the winner\n",
        "    if player_choice == comp_choice:\n",
        "      result = 'Tie'\n",
        "    elif (player_choice == 'rock' and comp_choice == 'scissors') or \\\n",
        "    (player_choice == 'scissors' and comp_choice == 'paper') or \\\n",
        "    (player_choice == 'paper' and comp_choice == 'rock'):\n",
        "      result = 'Player 1 wins'\n",
        "    else:\n",
        "      result = 'Comp wins'\n",
        "\n",
        "    return result\n",
        "\n",
        "\n"
      ]
    },
    {
      "cell_type": "markdown",
      "metadata": {
        "id": "ypdlLuEaKVJV"
      },
      "source": [
        "Your next task is to write the body of function `computer_makes_choice` in such a way that it would return the choice of the computer.\n",
        "\n",
        "The computer's choice will be randomly generated using the `random.choice()` function."
      ]
    },
    {
      "cell_type": "code",
      "execution_count": null,
      "metadata": {
        "id": "4LbHs_cFvobf",
        "colab": {
          "base_uri": "https://localhost:8080/"
        },
        "outputId": "235e337e-7420-4e48-f665-286c66a76205"
      },
      "outputs": [
        {
          "output_type": "stream",
          "name": "stdout",
          "text": [
            "Test Comp choice pass\n"
          ]
        }
      ],
      "source": [
        "import random\n",
        "\n",
        "@ test_computer_makes_choice\n",
        "def computer_makes_choice():\n",
        "    \"\"\"\n",
        "    Generates the choise of the computer in the Rock-Paper-Scissors game.\n",
        "\n",
        "    Parameters:\n",
        "        none.\n",
        "\n",
        "    Returns:\n",
        "        str: The choice of the player. Should be one of 'rock', 'paper', or 'scissors'.\n",
        "\n",
        "    Example:\n",
        "        >>> computer_makes_choice()\n",
        "        'rock'\n",
        "        >>> computer_makes_choice()\n",
        "        'scissors'\n",
        "    \"\"\"\n",
        "    valid_choices = {'rock', 'paper', 'scissors'}\n",
        "\n",
        "    # Generate computer's choice randomly\n",
        "    result = random.choice(list(valid_choices))\n",
        "\n",
        "    return result\n"
      ]
    },
    {
      "cell_type": "markdown",
      "metadata": {
        "id": "QJZf8hWXLtjv"
      },
      "source": [
        "Write the body of function `play_multiple_rounds(num_rounds)` that will directly call the `play_rock_paper_scissors()` function inside the loop for each round. The game proceeds as before, with the user inputting their choice, and the result of each round is displayed accordingly."
      ]
    },
    {
      "cell_type": "code",
      "execution_count": null,
      "metadata": {
        "id": "tMmuVFkgKyNx"
      },
      "outputs": [],
      "source": [
        "def play_multiple_rounds(num_rounds):\n",
        "    \"\"\"\n",
        "    Play multiple rounds of the Rock-Paper-Scissors game against the computer.\n",
        "\n",
        "    Parameters:\n",
        "        num_rounds (int): The number of rounds to play.\n",
        "\n",
        "    Returns:\n",
        "        None\n",
        "\n",
        "    Example:\n",
        "        >>> play_multiple_rounds(3)\n",
        "        Enter your choice (rock/paper/scissors): rock\n",
        "        Round 1: You chose rock. Computer chose paper. Comp wins\n",
        "\n",
        "        Enter your choice (rock/paper/scissors): paper\n",
        "        Round 2: You chose paper. Computer chose paper. Tie\n",
        "\n",
        "        Enter your choice (rock/paper/scissors): scissors\n",
        "        Round 3: You chose scissors. Computer chose rock. Comp wins\n",
        "    \"\"\"\n",
        "    valid_choices = {'rock', 'paper', 'scissors'}\n",
        "\n",
        "    # Implementation of the dialog with the player\n",
        "    for i in range(num_rounds):\n",
        "\n",
        "      player_choice = input(\"Enter your choice (rock/paper/scissors):\").lower()\n",
        "      comp_choice = computer_makes_choice()\n",
        "\n",
        "      if player_choice not in valid_choices:\n",
        "        print(\"Invalid choice. Please try again.\")\n",
        "        continue\n",
        "\n",
        "      result = play_rock_paper_scissors(player_choice, comp_choice)\n",
        "\n",
        "      print(f\"Round {i + 1}: You chose {player_choice}. Computer chose {comp_choice}. {result}\")\n",
        "\n",
        "\n",
        "    return None\n"
      ]
    },
    {
      "cell_type": "code",
      "execution_count": null,
      "metadata": {
        "id": "UzHSL_3VQn6_",
        "colab": {
          "base_uri": "https://localhost:8080/"
        },
        "outputId": "436f6695-cc8c-4481-aeff-c7196a8f9e95"
      },
      "outputs": [
        {
          "output_type": "stream",
          "name": "stdout",
          "text": [
            "Enter the number of rounds to play: 1\n",
            "Enter your choice (rock/paper/scissors):paper\n",
            "Round 1: You chose paper. Computer chose scissors. Comp wins\n"
          ]
        }
      ],
      "source": [
        "\n",
        "# Example usage:\n",
        "num_rounds = int(input(\"Enter the number of rounds to play: \"))\n",
        "play_multiple_rounds(num_rounds)\n"
      ]
    },
    {
      "cell_type": "markdown",
      "metadata": {
        "id": "DN9GBzhMwF7U"
      },
      "source": [
        "The simplicity and randomness of the Rock-Paper-Scissors game make it a popular choice for resolving disputes or making decisions in a fair and fun way."
      ]
    },
    {
      "cell_type": "markdown",
      "metadata": {
        "id": "SDfeV1MtT3Z_"
      },
      "source": [
        "## **Task 2. Hangman game**\n",
        "\n",
        "Create a text-based version of the Hangman game. The computer selects a random word, and the player guesses letters until they solve the word or run out of attempts.\n",
        "\n",
        "*Problem Definition:*\n",
        "\n",
        "* You are tasked with implementing a simple Hangman game in Python.\n",
        "* The game should select a random word from a predefined list of words.\n",
        "* The player must guess letters in the word one at a time.\n",
        "* If the player guesses a correct letter, it is revealed in the word.\n",
        "* If the player guesses an incorrect letter, a part of the hangman is drawn.\n",
        "* The player wins if they guess all the letters correctly before the hangman is fully drawn.\n",
        "* The player loses if the hangman is fully drawn before they guess the word.\n",
        "* The game should provide feedback to the player after each guess.\n",
        "* The game continues until the player wins or loses.\n",
        "\n",
        "Your Hangman game will consist of three functions: `select_random_word`, `display_word`, and `hangman_game`. The `hangman_game` function runs the game loop, while the other functions are used to select a random word and display the word with guessed letters filled in.\n",
        "\n",
        "Certainly! Here's a description of each of the functions in the Hangman game:\n",
        "\n",
        "1. `select_random_word` Function:\n",
        "\n",
        "   This function is responsible for selecting a random word from a predefined list of words. It is used at the beginning of the game to choose the word that the player needs to guess.\n",
        "\n",
        "   - Parameters: None\n",
        "   - Returns: A randomly selected word (string).\n",
        "\n",
        "2. `display_word` Function:\n",
        "\n",
        "   This function takes two arguments: the target word to guess and a list of guessed letters. It generates a string where guessed letters are filled in, and unguessed letters are represented by underscores.\n",
        "\n",
        "   - Parameters:\n",
        "     - `word(str)`: The target word to guess.\n",
        "     - `guessed_letters(list)`: List of letters guessed by the player.\n",
        "\n",
        "   - Returns: The word with guessed letters filled in (string).\n",
        "\n",
        "\n",
        "3. `hangman_game` Function:\n",
        "\n",
        "   This function executes the Hangman game. It handles the game's main logic, including taking user input for letter guesses, checking if the guessed letters are correct, and displaying feedback to the player. The game continues until the player either wins by guessing the word correctly or loses by running out of attempts.\n",
        "\n",
        "   - Parameters: None\n",
        "\n",
        "Each function serves a specific role in the Hangman game, making the code modular and easier to understand. The `hangman_game` function ties everything together and provides the overall game experience for the player, including welcoming them, managing guesses, and announcing the game's outcome."
      ]
    },
    {
      "cell_type": "code",
      "execution_count": null,
      "metadata": {
        "id": "oyrQq1OlUHm6",
        "colab": {
          "base_uri": "https://localhost:8080/"
        },
        "outputId": "1b219572-a544-4114-cee4-214404c381a8"
      },
      "outputs": [
        {
          "output_type": "stream",
          "name": "stdout",
          "text": [
            "Test Word choice pass\n",
            "Test Display Word pass\n",
            "Welcome to Hangman!\n",
            "Try to guess the word. You can make up to 6 wrong guesses.\n",
            "\n",
            "Word: ______\n",
            "Attempts left: 6\n",
            "Enter a letter: a\n",
            "Bad guess! The letter 'a' is not in the word.\n",
            "\n",
            "Word: ______\n",
            "Attempts left: 5\n",
            "Enter a letter: e\n",
            "Good guess! The letter 'e' is in the word.\n",
            "\n",
            "Word: __e___\n",
            "Attempts left: 5\n",
            "Enter a letter: o\n",
            "Bad guess! The letter 'o' is not in the word.\n",
            "\n",
            "Word: __e___\n",
            "Attempts left: 4\n",
            "Enter a letter: i\n",
            "Bad guess! The letter 'i' is not in the word.\n",
            "\n",
            "Word: __e___\n",
            "Attempts left: 3\n",
            "Enter a letter: y\n",
            "Good guess! The letter 'y' is in the word.\n",
            "\n",
            "Word: __e__y\n",
            "Attempts left: 3\n",
            "Enter a letter: m\n",
            "Bad guess! The letter 'm' is not in the word.\n",
            "\n",
            "Word: __e__y\n",
            "Attempts left: 2\n",
            "Enter a letter: u\n",
            "Bad guess! The letter 'u' is not in the word.\n",
            "\n",
            "Word: __e__y\n",
            "Attempts left: 1\n",
            "Enter a letter: s\n",
            "Bad guess! The letter 's' is not in the word.\n",
            "\n",
            "Sorry, you've run out of attempts. The word was: cherry\n"
          ]
        }
      ],
      "source": [
        "import random\n",
        "\n",
        "@test_select_random_word\n",
        "def select_random_word():\n",
        "    \"\"\"\n",
        "    Selects a random word from a predefined list of words.\n",
        "\n",
        "    Returns:\n",
        "    str: A randomly selected word.\n",
        "    \"\"\"\n",
        "    word_list = [\"apple\", \"banana\", \"cherry\", \"dog\", \"elephant\", \"flower\", \"giraffe\", \"hamburger\", \"icecream\", \"jacket\"]\n",
        "    result = random.choice(word_list)\n",
        "\n",
        "    return result\n",
        "\n",
        "@test_display_word\n",
        "def display_word(word, guessed_letters):\n",
        "    \"\"\"\n",
        "    Displays the word with guessed letters filled in and unguessed letters as underscores.\n",
        "\n",
        "    Args:\n",
        "    word (str): The target word to guess.\n",
        "    guessed_letters (list): List of letters guessed by the player.\n",
        "\n",
        "    Returns:\n",
        "    str: The word with guessed letters filled in.\n",
        "    \"\"\"\n",
        "\n",
        "    result = ''\n",
        "\n",
        "    for letter in word:\n",
        "      if letter in guessed_letters:\n",
        "        result += letter\n",
        "      else:\n",
        "        result += '_'\n",
        "\n",
        "    return result\n",
        "\n",
        "def hangman_game():\n",
        "    \"\"\"\n",
        "    Executes the Hangman game.\n",
        "\n",
        "    The player must guess letters in a randomly selected word until they either win or lose.\n",
        "    \"\"\"\n",
        "    word_to_guess = select_random_word()\n",
        "\n",
        "    guessed_letters = []\n",
        "    max_attempts = 6  # Maximum attempts before losing\n",
        "\n",
        "    print(\"Welcome to Hangman!\")\n",
        "    print(\"Try to guess the word. You can make up to 6 wrong guesses.\")\n",
        "\n",
        "    while max_attempts > 0:\n",
        "      print(f\"\\nWord: {display_word(word_to_guess, guessed_letters)}\")\n",
        "      print(f\"Attempts left: {max_attempts}\")\n",
        "\n",
        "      user_input = input(\"Enter a letter: \").lower()\n",
        "\n",
        "      if len(user_input) != 1:\n",
        "          print(\"Please enter a single valid letter.\")\n",
        "          continue\n",
        "\n",
        "      if user_input in guessed_letters:\n",
        "          print(\"You've already guessed that letter. Try again.\")\n",
        "          continue\n",
        "\n",
        "      guessed_letters.append(user_input)\n",
        "\n",
        "      if user_input not in word_to_guess:\n",
        "          max_attempts -= 1\n",
        "          print(f\"Bad guess! The letter '{user_input}' is not in the word.\")\n",
        "      else:\n",
        "          print(f\"Good guess! The letter '{user_input}' is in the word.\")\n",
        "\n",
        "      if '_' not in display_word(word_to_guess, guessed_letters):\n",
        "          print(f\"\\nCongratulations! You've guessed the word: {word_to_guess}\")\n",
        "          return\n",
        "\n",
        "    print(f\"\\nSorry, you've run out of attempts. The word was: {word_to_guess}\")\n",
        "\n",
        "    return None\n",
        "\n",
        "\n",
        "\n",
        "# To play the game, call the hangman_game() function:\n",
        "\n",
        "hangman_game()\n"
      ]
    }
  ],
  "metadata": {
    "colab": {
      "provenance": []
    },
    "kernelspec": {
      "display_name": "Python 3",
      "name": "python3"
    },
    "language_info": {
      "name": "python"
    }
  },
  "nbformat": 4,
  "nbformat_minor": 0
}